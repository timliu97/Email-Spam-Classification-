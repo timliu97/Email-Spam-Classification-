{
  "nbformat": 4,
  "nbformat_minor": 0,
  "metadata": {
    "kernelspec": {
      "display_name": "Python 3",
      "language": "python",
      "name": "python3"
    },
    "language_info": {
      "codemirror_mode": {
        "name": "ipython",
        "version": 3
      },
      "file_extension": ".py",
      "mimetype": "text/x-python",
      "name": "python",
      "nbconvert_exporter": "python",
      "pygments_lexer": "ipython3",
      "version": "3.6.3"
    },
    "colab": {
      "name": "grid_search (1).ipynb",
      "provenance": [],
      "collapsed_sections": [],
      "toc_visible": true
    }
  },
  "cells": [
    {
      "cell_type": "markdown",
      "metadata": {
        "id": "hncBKMOqNkc6",
        "colab_type": "text"
      },
      "source": [
        "## Corporate Messages Classification"
      ]
    },
    {
      "cell_type": "code",
      "metadata": {
        "id": "I_qYQYYQib3h",
        "colab_type": "code",
        "outputId": "699d5464-4729-4c6d-c43a-73e0d072159e",
        "colab": {
          "base_uri": "https://localhost:8080/",
          "height": 158
        }
      },
      "source": [
        "import nltk\n",
        "nltk.download(['punkt', 'wordnet', 'averaged_perceptron_tagger'])"
      ],
      "execution_count": 0,
      "outputs": [
        {
          "output_type": "stream",
          "text": [
            "[nltk_data] Downloading package punkt to /root/nltk_data...\n",
            "[nltk_data]   Unzipping tokenizers/punkt.zip.\n",
            "[nltk_data] Downloading package wordnet to /root/nltk_data...\n",
            "[nltk_data]   Unzipping corpora/wordnet.zip.\n",
            "[nltk_data] Downloading package averaged_perceptron_tagger to\n",
            "[nltk_data]     /root/nltk_data...\n",
            "[nltk_data]   Unzipping taggers/averaged_perceptron_tagger.zip.\n"
          ],
          "name": "stdout"
        },
        {
          "output_type": "execute_result",
          "data": {
            "text/plain": [
              "True"
            ]
          },
          "metadata": {
            "tags": []
          },
          "execution_count": 1
        }
      ]
    },
    {
      "cell_type": "code",
      "metadata": {
        "id": "HHpHqFugib34",
        "colab_type": "code",
        "colab": {}
      },
      "source": [
        "import re\n",
        "import numpy as np\n",
        "import pandas as pd\n",
        "from nltk.tokenize import word_tokenize\n",
        "from nltk.stem import WordNetLemmatizer\n",
        "\n",
        "from sklearn.metrics import confusion_matrix\n",
        "from sklearn.model_selection import GridSearchCV\n",
        "from sklearn.ensemble import RandomForestClassifier\n",
        "from sklearn.model_selection import train_test_split\n",
        "from sklearn.pipeline import Pipeline, FeatureUnion\n",
        "from sklearn.base import BaseEstimator, TransformerMixin\n",
        "from sklearn.feature_extraction.text import CountVectorizer, TfidfTransformer"
      ],
      "execution_count": 0,
      "outputs": []
    },
    {
      "cell_type": "markdown",
      "metadata": {
        "id": "UQSe_juVN1L5",
        "colab_type": "text"
      },
      "source": [
        "## Data Preprocessing"
      ]
    },
    {
      "cell_type": "code",
      "metadata": {
        "id": "FP4N8nFhib4E",
        "colab_type": "code",
        "colab": {}
      },
      "source": [
        "url_regex = 'http[s]?://(?:[a-zA-Z]|[0-9]|[$-_@.&+]|[!*\\(\\),]|(?:%[0-9a-fA-F][0-9a-fA-F]))+'\n",
        "\n",
        "def tokenize(text):\n",
        "    detected_urls = re.findall(url_regex, text)\n",
        "    for url in detected_urls:\n",
        "        text = text.replace(url, \"urlplaceholder\")\n",
        "\n",
        "    tokens = word_tokenize(text)\n",
        "    lemmatizer = WordNetLemmatizer()\n",
        "\n",
        "    clean_tokens = []\n",
        "    for tok in tokens:\n",
        "        clean_tok = lemmatizer.lemmatize(tok).lower().strip()\n",
        "        clean_tokens.append(clean_tok)\n",
        "\n",
        "    return clean_tokens\n",
        "\n",
        "\n",
        "class StartingVerbExtractor(BaseEstimator, TransformerMixin):\n",
        "\n",
        "    def starting_verb(self, text):\n",
        "        sentence_list = nltk.sent_tokenize(text)\n",
        "        for sentence in sentence_list:\n",
        "            pos_tags = nltk.pos_tag(tokenize(sentence))\n",
        "            first_word, first_tag = pos_tags[0]\n",
        "            if first_tag in ['VB', 'VBP'] or first_word == 'RT':\n",
        "                return True\n",
        "        return False\n",
        "\n",
        "    def fit(self, x, y=None):\n",
        "        return self\n",
        "\n",
        "    def transform(self, X):\n",
        "        X_tagged = pd.Series(X).apply(self.starting_verb)\n",
        "        return pd.DataFrame(X_tagged)"
      ],
      "execution_count": 0,
      "outputs": []
    },
    {
      "cell_type": "markdown",
      "metadata": {
        "id": "On7XH-Kpib4Q",
        "colab_type": "text"
      },
      "source": [
        "### View parameters in pipeline\n",
        "Before modifying your build_model method to include grid search, view the parameters in your pipeline here."
      ]
    },
    {
      "cell_type": "code",
      "metadata": {
        "id": "QzB9dFP3ib4S",
        "colab_type": "code",
        "colab": {}
      },
      "source": [
        "pipeline = Pipeline([\n",
        "    ('features', FeatureUnion([\n",
        "\n",
        "        ('text_pipeline', Pipeline([\n",
        "            ('vect', CountVectorizer(tokenizer=tokenize)),\n",
        "            ('tfidf', TfidfTransformer())\n",
        "        ])),\n",
        "\n",
        "        ('starting_verb', StartingVerbExtractor())\n",
        "    ])),\n",
        "\n",
        "    ('clf', RandomForestClassifier())\n",
        "])"
      ],
      "execution_count": 0,
      "outputs": []
    },
    {
      "cell_type": "code",
      "metadata": {
        "id": "urgIkGn4ib4d",
        "colab_type": "code",
        "outputId": "b47fe97b-42bf-49dc-c530-52deed7012d1",
        "colab": {
          "base_uri": "https://localhost:8080/",
          "height": 1000
        }
      },
      "source": [
        "pipeline.get_params()"
      ],
      "execution_count": 0,
      "outputs": [
        {
          "output_type": "execute_result",
          "data": {
            "text/plain": [
              "{'clf': RandomForestClassifier(bootstrap=True, ccp_alpha=0.0, class_weight=None,\n",
              "                        criterion='gini', max_depth=None, max_features='auto',\n",
              "                        max_leaf_nodes=None, max_samples=None,\n",
              "                        min_impurity_decrease=0.0, min_impurity_split=None,\n",
              "                        min_samples_leaf=1, min_samples_split=2,\n",
              "                        min_weight_fraction_leaf=0.0, n_estimators=100,\n",
              "                        n_jobs=None, oob_score=False, random_state=None,\n",
              "                        verbose=0, warm_start=False),\n",
              " 'clf__bootstrap': True,\n",
              " 'clf__ccp_alpha': 0.0,\n",
              " 'clf__class_weight': None,\n",
              " 'clf__criterion': 'gini',\n",
              " 'clf__max_depth': None,\n",
              " 'clf__max_features': 'auto',\n",
              " 'clf__max_leaf_nodes': None,\n",
              " 'clf__max_samples': None,\n",
              " 'clf__min_impurity_decrease': 0.0,\n",
              " 'clf__min_impurity_split': None,\n",
              " 'clf__min_samples_leaf': 1,\n",
              " 'clf__min_samples_split': 2,\n",
              " 'clf__min_weight_fraction_leaf': 0.0,\n",
              " 'clf__n_estimators': 100,\n",
              " 'clf__n_jobs': None,\n",
              " 'clf__oob_score': False,\n",
              " 'clf__random_state': None,\n",
              " 'clf__verbose': 0,\n",
              " 'clf__warm_start': False,\n",
              " 'features': FeatureUnion(n_jobs=None,\n",
              "              transformer_list=[('text_pipeline',\n",
              "                                 Pipeline(memory=None,\n",
              "                                          steps=[('vect',\n",
              "                                                  CountVectorizer(analyzer='word',\n",
              "                                                                  binary=False,\n",
              "                                                                  decode_error='strict',\n",
              "                                                                  dtype=<class 'numpy.int64'>,\n",
              "                                                                  encoding='utf-8',\n",
              "                                                                  input='content',\n",
              "                                                                  lowercase=True,\n",
              "                                                                  max_df=1.0,\n",
              "                                                                  max_features=None,\n",
              "                                                                  min_df=1,\n",
              "                                                                  ngram_range=(1,\n",
              "                                                                               1),\n",
              "                                                                  preprocessor=None,\n",
              "                                                                  stop_words=None,\n",
              "                                                                  strip_accents=None,\n",
              "                                                                  token_pattern='(?u)\\\\b\\\\w\\\\w+\\\\b',\n",
              "                                                                  tokenizer=<function tokenize at 0x7f24ca86aea0>,\n",
              "                                                                  vocabulary=None)),\n",
              "                                                 ('tfidf',\n",
              "                                                  TfidfTransformer(norm='l2',\n",
              "                                                                   smooth_idf=True,\n",
              "                                                                   sublinear_tf=False,\n",
              "                                                                   use_idf=True))],\n",
              "                                          verbose=False)),\n",
              "                                ('starting_verb', StartingVerbExtractor())],\n",
              "              transformer_weights=None, verbose=False),\n",
              " 'features__n_jobs': None,\n",
              " 'features__starting_verb': StartingVerbExtractor(),\n",
              " 'features__text_pipeline': Pipeline(memory=None,\n",
              "          steps=[('vect',\n",
              "                  CountVectorizer(analyzer='word', binary=False,\n",
              "                                  decode_error='strict',\n",
              "                                  dtype=<class 'numpy.int64'>, encoding='utf-8',\n",
              "                                  input='content', lowercase=True, max_df=1.0,\n",
              "                                  max_features=None, min_df=1,\n",
              "                                  ngram_range=(1, 1), preprocessor=None,\n",
              "                                  stop_words=None, strip_accents=None,\n",
              "                                  token_pattern='(?u)\\\\b\\\\w\\\\w+\\\\b',\n",
              "                                  tokenizer=<function tokenize at 0x7f24ca86aea0>,\n",
              "                                  vocabulary=None)),\n",
              "                 ('tfidf',\n",
              "                  TfidfTransformer(norm='l2', smooth_idf=True,\n",
              "                                   sublinear_tf=False, use_idf=True))],\n",
              "          verbose=False),\n",
              " 'features__text_pipeline__memory': None,\n",
              " 'features__text_pipeline__steps': [('vect',\n",
              "   CountVectorizer(analyzer='word', binary=False, decode_error='strict',\n",
              "                   dtype=<class 'numpy.int64'>, encoding='utf-8', input='content',\n",
              "                   lowercase=True, max_df=1.0, max_features=None, min_df=1,\n",
              "                   ngram_range=(1, 1), preprocessor=None, stop_words=None,\n",
              "                   strip_accents=None, token_pattern='(?u)\\\\b\\\\w\\\\w+\\\\b',\n",
              "                   tokenizer=<function tokenize at 0x7f24ca86aea0>,\n",
              "                   vocabulary=None)),\n",
              "  ('tfidf',\n",
              "   TfidfTransformer(norm='l2', smooth_idf=True, sublinear_tf=False, use_idf=True))],\n",
              " 'features__text_pipeline__tfidf': TfidfTransformer(norm='l2', smooth_idf=True, sublinear_tf=False, use_idf=True),\n",
              " 'features__text_pipeline__tfidf__norm': 'l2',\n",
              " 'features__text_pipeline__tfidf__smooth_idf': True,\n",
              " 'features__text_pipeline__tfidf__sublinear_tf': False,\n",
              " 'features__text_pipeline__tfidf__use_idf': True,\n",
              " 'features__text_pipeline__vect': CountVectorizer(analyzer='word', binary=False, decode_error='strict',\n",
              "                 dtype=<class 'numpy.int64'>, encoding='utf-8', input='content',\n",
              "                 lowercase=True, max_df=1.0, max_features=None, min_df=1,\n",
              "                 ngram_range=(1, 1), preprocessor=None, stop_words=None,\n",
              "                 strip_accents=None, token_pattern='(?u)\\\\b\\\\w\\\\w+\\\\b',\n",
              "                 tokenizer=<function tokenize at 0x7f24ca86aea0>,\n",
              "                 vocabulary=None),\n",
              " 'features__text_pipeline__vect__analyzer': 'word',\n",
              " 'features__text_pipeline__vect__binary': False,\n",
              " 'features__text_pipeline__vect__decode_error': 'strict',\n",
              " 'features__text_pipeline__vect__dtype': numpy.int64,\n",
              " 'features__text_pipeline__vect__encoding': 'utf-8',\n",
              " 'features__text_pipeline__vect__input': 'content',\n",
              " 'features__text_pipeline__vect__lowercase': True,\n",
              " 'features__text_pipeline__vect__max_df': 1.0,\n",
              " 'features__text_pipeline__vect__max_features': None,\n",
              " 'features__text_pipeline__vect__min_df': 1,\n",
              " 'features__text_pipeline__vect__ngram_range': (1, 1),\n",
              " 'features__text_pipeline__vect__preprocessor': None,\n",
              " 'features__text_pipeline__vect__stop_words': None,\n",
              " 'features__text_pipeline__vect__strip_accents': None,\n",
              " 'features__text_pipeline__vect__token_pattern': '(?u)\\\\b\\\\w\\\\w+\\\\b',\n",
              " 'features__text_pipeline__vect__tokenizer': <function __main__.tokenize>,\n",
              " 'features__text_pipeline__vect__vocabulary': None,\n",
              " 'features__text_pipeline__verbose': False,\n",
              " 'features__transformer_list': [('text_pipeline', Pipeline(memory=None,\n",
              "            steps=[('vect',\n",
              "                    CountVectorizer(analyzer='word', binary=False,\n",
              "                                    decode_error='strict',\n",
              "                                    dtype=<class 'numpy.int64'>, encoding='utf-8',\n",
              "                                    input='content', lowercase=True, max_df=1.0,\n",
              "                                    max_features=None, min_df=1,\n",
              "                                    ngram_range=(1, 1), preprocessor=None,\n",
              "                                    stop_words=None, strip_accents=None,\n",
              "                                    token_pattern='(?u)\\\\b\\\\w\\\\w+\\\\b',\n",
              "                                    tokenizer=<function tokenize at 0x7f24ca86aea0>,\n",
              "                                    vocabulary=None)),\n",
              "                   ('tfidf',\n",
              "                    TfidfTransformer(norm='l2', smooth_idf=True,\n",
              "                                     sublinear_tf=False, use_idf=True))],\n",
              "            verbose=False)), ('starting_verb', StartingVerbExtractor())],\n",
              " 'features__transformer_weights': None,\n",
              " 'features__verbose': False,\n",
              " 'memory': None,\n",
              " 'steps': [('features', FeatureUnion(n_jobs=None,\n",
              "                transformer_list=[('text_pipeline',\n",
              "                                   Pipeline(memory=None,\n",
              "                                            steps=[('vect',\n",
              "                                                    CountVectorizer(analyzer='word',\n",
              "                                                                    binary=False,\n",
              "                                                                    decode_error='strict',\n",
              "                                                                    dtype=<class 'numpy.int64'>,\n",
              "                                                                    encoding='utf-8',\n",
              "                                                                    input='content',\n",
              "                                                                    lowercase=True,\n",
              "                                                                    max_df=1.0,\n",
              "                                                                    max_features=None,\n",
              "                                                                    min_df=1,\n",
              "                                                                    ngram_range=(1,\n",
              "                                                                                 1),\n",
              "                                                                    preprocessor=None,\n",
              "                                                                    stop_words=None,\n",
              "                                                                    strip_accents=None,\n",
              "                                                                    token_pattern='(?u)\\\\b\\\\w\\\\w+\\\\b',\n",
              "                                                                    tokenizer=<function tokenize at 0x7f24ca86aea0>,\n",
              "                                                                    vocabulary=None)),\n",
              "                                                   ('tfidf',\n",
              "                                                    TfidfTransformer(norm='l2',\n",
              "                                                                     smooth_idf=True,\n",
              "                                                                     sublinear_tf=False,\n",
              "                                                                     use_idf=True))],\n",
              "                                            verbose=False)),\n",
              "                                  ('starting_verb', StartingVerbExtractor())],\n",
              "                transformer_weights=None, verbose=False)),\n",
              "  ('clf',\n",
              "   RandomForestClassifier(bootstrap=True, ccp_alpha=0.0, class_weight=None,\n",
              "                          criterion='gini', max_depth=None, max_features='auto',\n",
              "                          max_leaf_nodes=None, max_samples=None,\n",
              "                          min_impurity_decrease=0.0, min_impurity_split=None,\n",
              "                          min_samples_leaf=1, min_samples_split=2,\n",
              "                          min_weight_fraction_leaf=0.0, n_estimators=100,\n",
              "                          n_jobs=None, oob_score=False, random_state=None,\n",
              "                          verbose=0, warm_start=False))],\n",
              " 'verbose': False}"
            ]
          },
          "metadata": {
            "tags": []
          },
          "execution_count": 5
        }
      ]
    },
    {
      "cell_type": "markdown",
      "metadata": {
        "id": "tgnVuK-Iib4p",
        "colab_type": "text"
      },
      "source": [
        "### Modify your `build_model` function to return a GridSearchCV object.\n",
        "Try to grid search some parameters in your data transformation steps as well as those for your classifier! Browse the parameters you can search above."
      ]
    },
    {
      "cell_type": "code",
      "metadata": {
        "id": "Yh2bhWUgib4r",
        "colab_type": "code",
        "colab": {}
      },
      "source": [
        "def build_model():\n",
        "    pipeline = Pipeline([\n",
        "        ('features', FeatureUnion([\n",
        "            \n",
        "            ('text_pipeline', Pipeline([\n",
        "                ('vect', CountVectorizer(tokenizer=tokenize)),\n",
        "                ('tfidf', TfidfTransformer())\n",
        "            ])),\n",
        "\n",
        "            ('starting_verb', StartingVerbExtractor())\n",
        "        ])),\n",
        "    \n",
        "        ('clf', RandomForestClassifier())\n",
        "    ])\n",
        "\n",
        "    # specify parameters for grid search\n",
        "    parameters = {\n",
        "        'features__text_pipeline__vect__ngram_range': ((1, 1), (1, 2)),\n",
        "        'features__text_pipeline__vect__max_df': (0.5, 0.75, 1.0),\n",
        "        'features__text_pipeline__vect__max_features': (None, 5000, 10000),\n",
        "        'features__text_pipeline__tfidf__use_idf': (True, False),\n",
        "        'clf__n_estimators': [50, 100, 200],\n",
        "        'clf__min_samples_split': [2, 3, 4],\n",
        "        # 'features__transformer_weights': (\n",
        "        #     {'text_pipeline': 1, 'starting_verb': 0.5},\n",
        "        #     {'text_pipeline': 0.5, 'starting_verb': 1},\n",
        "        #     {'text_pipeline': 0.8, 'starting_verb': 1},\n",
        "        # )\n",
        "    }\n",
        "\n",
        "    cv = GridSearchCV(pipeline, param_grid=parameters)\n",
        "    \n",
        "    return cv"
      ],
      "execution_count": 0,
      "outputs": []
    },
    {
      "cell_type": "markdown",
      "metadata": {
        "id": "WvZGVUZ1ib4x",
        "colab_type": "text"
      },
      "source": [
        "### Run program to test\n",
        "Running grid search can take a while, especially if you are searching over a lot of parameters! If you want to reduce it to a few minutes, try commenting out some of your parameters to grid search over just 1 or 2 parameters with a small number of values each. Once you know that works, feel free to add more parameters and see how well your final model can perform! You can try this out in the next page."
      ]
    },
    {
      "cell_type": "code",
      "metadata": {
        "id": "H1hvlb9Fib40",
        "colab_type": "code",
        "outputId": "27a51c6f-abc2-41d4-e945-2a24662c2f62",
        "colab": {
          "base_uri": "https://localhost:8080/",
          "height": 178
        }
      },
      "source": [
        "def load_data():\n",
        "    df = pd.read_csv('corporate_messaging.csv', encoding='latin-1')\n",
        "    df = df[(df[\"category:confidence\"] == 1) & (df['category'] != 'Exclude')]\n",
        "    X = df.text.values\n",
        "    y = df.category.values\n",
        "    return X, y\n",
        "\n",
        "\n",
        "def display_results(cv, y_test, y_pred):\n",
        "    labels = np.unique(y_pred)\n",
        "    confusion_mat = confusion_matrix(y_test, y_pred, labels=labels)\n",
        "    accuracy = (y_pred == y_test).mean()\n",
        "\n",
        "    print(\"Labels:\", labels)\n",
        "    print(\"Confusion Matrix:\\n\", confusion_mat)\n",
        "    print(\"Accuracy:\", accuracy)\n",
        "    print(\"\\nBest Parameters:\", cv.best_params_)\n",
        "\n",
        "\n",
        "def main():\n",
        "    X, y = load_data()\n",
        "    X_train, X_test, y_train, y_test = train_test_split(X, y)\n",
        "\n",
        "    model = build_model()\n",
        "    model.fit(X_train, y_train)\n",
        "    y_pred = model.predict(X_test)\n",
        "    \n",
        "    display_results(model, y_test, y_pred)\n",
        "\n",
        "\n",
        "main()"
      ],
      "execution_count": 0,
      "outputs": [
        {
          "output_type": "stream",
          "text": [
            "Labels: ['Action' 'Dialogue' 'Information']\n",
            "Confusion Matrix:\n",
            " [[ 82   0  28]\n",
            " [  1  18   4]\n",
            " [  1   1 466]]\n",
            "Accuracy: 0.9417637271214643\n",
            "\n",
            "Best Parameters: {'clf__min_samples_split': 2, 'clf__n_estimators': 200, 'features__text_pipeline__tfidf__use_idf': True, 'features__text_pipeline__vect__max_df': 1.0, 'features__text_pipeline__vect__max_features': 10000, 'features__text_pipeline__vect__ngram_range': (1, 2)}\n"
          ],
          "name": "stdout"
        }
      ]
    },
    {
      "cell_type": "code",
      "metadata": {
        "id": "SYiOvKNCib5H",
        "colab_type": "code",
        "colab": {}
      },
      "source": [
        ""
      ],
      "execution_count": 0,
      "outputs": []
    }
  ]
}